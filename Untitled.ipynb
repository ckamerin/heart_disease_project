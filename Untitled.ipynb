{
 "cells": [
  {
   "cell_type": "code",
   "execution_count": 1,
   "metadata": {},
   "outputs": [
    {
     "data": {
      "text/plain": [
       "<matplotlib.axes._subplots.AxesSubplot at 0x7f1cf34bf2e0>"
      ]
     },
     "execution_count": 1,
     "metadata": {},
     "output_type": "execute_result"
    },
    {
     "data": {
      "image/png": "[encoded data removed]",
      "text/plain": [
       "<Figure size 432x288 with 1 Axes>"
      ]
     },
     "metadata": {
      "needs_background": "light"
     },
     "output_type": "display_data"
    }
   ],
   "source": [
    "##Predicting heart disease using machine learning\n",
    "\n",
    "#   This notebook will look into various libraries in an attempt to build a machine learning model capable of predicting whether or not someone has heart disease based on their medical attributes\n",
    "\n",
    "# We're going to take the following approach\n",
    "    # 1. Problem definition\n",
    "    # 2. Data\n",
    "    # 3. Evaluation\n",
    "    # 4. Features\n",
    "    # 5. Modelling\n",
    "    # 6. Experimentation\n",
    "\n",
    "## 1. Problem Definition\n",
    "\n",
    "#   In a statment, given someones medical attributes can we predict whether or not they have heart disease.\n",
    "\n",
    "## 2. Data\n",
    "\n",
    "#   The original data came from the Cleavland data from the UCI Machine Learning Repository. \n",
    "#   https://archive.ics.uci.edu/m1/datasets/heart+Disease\n",
    "\n",
    "## 3. Evaluation\n",
    "\n",
    "#   If we can reach 95% accuracy at predicting whether or not someone has heart disease during the proof of concept, we'll pusure the project.\n",
    "\n",
    "## 4. Features\n",
    "\n",
    "#   Data Dictionary\n",
    "\n",
    "# age - age in years\n",
    "# sex - (1 = male; 0 = female)\n",
    "# cp - chest pain type\n",
    "# 0: Typical angina: chest pain related decrease blood supply to the heart\n",
    "# 1: Atypical angina: chest pain not related to heart\n",
    "# 2: Non-anginal pain: typically esophageal spasms (non heart related)\n",
    "# 3: Asymptomatic: chest pain not showing signs of disease\n",
    "# trestbps - resting blood pressure (in mm Hg on admission to the hospital)\n",
    "# anything above 130-140 is typically cause for concern\n",
    "# chol - serum cholestoral in mg/dl\n",
    "# serum = LDL + HDL + .2 * triglycerides\n",
    "# above 200 is cause for concern\n",
    "# fbs - (fasting blood sugar > 120 mg/dl) (1 = true; 0 = false)\n",
    "# '>126' mg/dL signals diabetes\n",
    "# restecg - resting electrocardiographic results\n",
    "# 0: Nothing to note\n",
    "# 1: ST-T Wave abnormality\n",
    "# can range from mild symptoms to severe problems\n",
    "# signals non-normal heart beat\n",
    "# 2: Possible or definite left ventricular hypertrophy\n",
    "# Enlarged heart's main pumping chamber\n",
    "# thalach - maximum heart rate achieved\n",
    "# exang - exercise induced angina (1 = yes; 0 = no)\n",
    "# oldpeak - ST depression induced by exercise relative to rest\n",
    "# looks at stress of heart during excercise\n",
    "# unhealthy heart will stress more\n",
    "# slope - the slope of the peak exercise ST segment\n",
    "# 0: Upsloping: better heart rate with excercise (uncommon)\n",
    "# 1: Flatsloping: minimal change (typical healthy heart)\n",
    "# 2: Downslopins: signs of unhealthy heart\n",
    "# ca - number of major vessels (0-3) colored by flourosopy\n",
    "# colored vessel means the doctor can see the blood passing through\n",
    "# the more blood movement the better (no clots)\n",
    "# thal - thalium stress result\n",
    "# 1,3: normal\n",
    "# 6: fixed defect: used to be defect but ok now\n",
    "# 7: reversable defect: no proper blood movement when excercising\n",
    "# target - have disease or not (1=yes, 0=no) (= the predicted attribute)\n",
    "\n",
    "## Preparing the tools\n",
    "\n",
    "# Regular EDA and plotting libraries\n",
    "#%%\n",
    "import pandas as pd\n",
    "import numpy as np\n",
    "import matplotlib.pyplot as plt\n",
    "import seaborn as sns\n",
    "\n",
    "# Models from Scikit-Learn\n",
    "from sklearn.linear_model import LogisticRegression\n",
    "from sklearn.neighbors import KNeighborsClassifier\n",
    "from sklearn.ensemble import RandomForestClassifier\n",
    "\n",
    "#Model Evaluations\n",
    "from sklearn.model_selection import train_test_split, cross_val_score, RandomizedSearchCV, GridSearchCV\n",
    "from sklearn.metrics import confusion_matrix, classification_report, precision_score, recall_score, f1_score, plot_roc_curve\n",
    "\n",
    "\n",
    "#Load Data\n",
    "\n",
    "df = pd.read_csv(\"heart-disease.csv\")\n",
    "df.shape\n",
    "\n",
    "## EDA Checklist\n",
    "#   1. What question(s) are we trying to solve?\n",
    "#   2. What kind of data do we have and how do we treat different types?\n",
    "#   3. What's missing from the data and how do we deal with that?\n",
    "#   4. Where are the outliers and why/should we care about them?\n",
    "#   5. How can you add, change or remove features to get more out of our data?\n",
    "\n",
    "df.head()\n",
    "df.tail()\n",
    "\n",
    "df[\"target\"].value_counts()\n",
    "\n",
    "df[\"target\"].value_counts().plot(kind=\"bar\", color=[\"salmon\", \"lightblue\"])\n",
    "\n"
   ]
  },
  {
   "cell_type": "code",
   "execution_count": null,
   "metadata": {},
   "outputs": [],
   "source": []
  }
 ],
 "metadata": {
  "kernelspec": {
   "display_name": "Python 3",
   "language": "python",
   "name": "python3"
  },
  "language_info": {
   "codemirror_mode": {
    "name": "ipython",
    "version": 3
   },
   "file_extension": ".py",
   "mimetype": "text/x-python",
   "name": "python",
   "nbconvert_exporter": "python",
   "pygments_lexer": "ipython3",
   "version": "3.8.3"
  }
 },
 "nbformat": 4,
 "nbformat_minor": 4
}
